{
 "cells": [
  {
   "cell_type": "code",
   "execution_count": 1,
   "id": "85fa9bd7",
   "metadata": {},
   "outputs": [],
   "source": [
    "import numpy as np\n",
    "import matplotlib.pyplot as plt\n",
    "import os \n",
    "import random\n",
    "import cv2"
   ]
  },
  {
   "cell_type": "code",
   "execution_count": 39,
   "id": "148cb415",
   "metadata": {},
   "outputs": [],
   "source": [
    "categories = {'cane': 'dog', \"cavallo\": \"horse\", \"gatto\": \"cat\", \"mucca\": \"cow\", \"pecora\": \"sheep\"}\n",
    "data=[]\n",
    "animals=[\"dog\", \"horse\", \"cat\", \"cow\",  \"sheep\",]\n",
    "img_size=224\n",
    "def create_data():\n",
    "        for category,translate in categories.items():\n",
    "            path=\"./raw-img/\"+category\n",
    "            target=animals.index(translate)\n",
    "            \n",
    "            i = 0\n",
    "            for img in os.listdir(path):\n",
    "                i += 1\n",
    "                if i <= 500 :\n",
    "                    try:\n",
    "                        img_array=cv2.imread(os.path.join(path,img),cv2.IMREAD_COLOR)\n",
    "                        new_img_array=cv2.resize(img_array,(img_size,img_size))\n",
    "                        data.append([new_img_array,target])\n",
    "                    except Exception as e:\n",
    "                        pass\n",
    "                else : \n",
    "                    break\n",
    "                \n",
    "            \n",
    "create_data()            "
   ]
  },
  {
   "cell_type": "code",
   "execution_count": 40,
   "id": "e17671b3",
   "metadata": {},
   "outputs": [],
   "source": [
    "random.shuffle(data)\n",
    "x=[]\n",
    "y=[]\n",
    "for features,labels in data:\n",
    "    x.append(features)\n",
    "    y.append(labels)   "
   ]
  },
  {
   "cell_type": "code",
   "execution_count": 41,
   "id": "b38ff0c2",
   "metadata": {},
   "outputs": [],
   "source": [
    "x = np.array(x)\n",
    "y = np.array(y)"
   ]
  },
  {
   "cell_type": "code",
   "execution_count": 42,
   "id": "9160adbc",
   "metadata": {},
   "outputs": [
    {
     "data": {
      "text/plain": [
       "(2500, 224, 224, 3)"
      ]
     },
     "execution_count": 42,
     "metadata": {},
     "output_type": "execute_result"
    }
   ],
   "source": [
    "x.shape"
   ]
  },
  {
   "cell_type": "code",
   "execution_count": 43,
   "id": "904c947a",
   "metadata": {},
   "outputs": [],
   "source": [
    "# for loading/processing the images  \n",
    "from keras.preprocessing.image import load_img \n",
    "from keras.preprocessing.image import img_to_array \n",
    "from keras.applications.vgg16 import preprocess_input "
   ]
  },
  {
   "cell_type": "code",
   "execution_count": 44,
   "id": "d51d23c3",
   "metadata": {},
   "outputs": [],
   "source": [
    "# models \n",
    "from keras.applications.vgg16 import VGG16 \n",
    "from keras.models import Model"
   ]
  },
  {
   "cell_type": "code",
   "execution_count": 45,
   "id": "cfd49c0a",
   "metadata": {},
   "outputs": [],
   "source": [
    "# load model\n",
    "model = VGG16()\n",
    "# remove the output layer\n",
    "model = Model(inputs=model.inputs, outputs=model.layers[-2].output)"
   ]
  },
  {
   "cell_type": "code",
   "execution_count": 46,
   "id": "1e4980a1",
   "metadata": {},
   "outputs": [],
   "source": [
    "feat = []\n",
    "\n",
    "for img in x :\n",
    "    reshaped_img = img.reshape(1,224,224,3) \n",
    "    imgx = preprocess_input(reshaped_img)\n",
    "    features = model.predict(imgx, use_multiprocessing=True)\n",
    "    feat.append(features)\n",
    "    \n",
    "feat = np.array(feat)"
   ]
  },
  {
   "cell_type": "code",
   "execution_count": 48,
   "id": "7c442667",
   "metadata": {},
   "outputs": [
    {
     "data": {
      "text/plain": [
       "(2500, 4096)"
      ]
     },
     "execution_count": 48,
     "metadata": {},
     "output_type": "execute_result"
    }
   ],
   "source": [
    "feat = feat.reshape(-1,4096)\n",
    "feat.shape"
   ]
  },
  {
   "cell_type": "code",
   "execution_count": 50,
   "id": "5bc635d6",
   "metadata": {},
   "outputs": [],
   "source": [
    "from sklearn.decomposition import PCA"
   ]
  },
  {
   "cell_type": "code",
   "execution_count": 59,
   "id": "3261846b",
   "metadata": {},
   "outputs": [],
   "source": [
    "pca = PCA(n_components=50, random_state=22)\n",
    "pca.fit(feat)\n",
    "X = pca.transform(feat)"
   ]
  },
  {
   "cell_type": "code",
   "execution_count": 60,
   "id": "4ed2a589",
   "metadata": {},
   "outputs": [
    {
     "data": {
      "text/plain": [
       "(2500, 50)"
      ]
     },
     "execution_count": 60,
     "metadata": {},
     "output_type": "execute_result"
    }
   ],
   "source": [
    "X.shape"
   ]
  },
  {
   "cell_type": "code",
   "execution_count": 61,
   "id": "2c5c43b9",
   "metadata": {},
   "outputs": [],
   "source": [
    "with open('data.txt' ,\"w\") as file:\n",
    "    file.write(str(X.shape[0])+' ')\n",
    "    file.write(str(X.shape[1])+' ')\n",
    "    file.write('\\n')\n",
    "    for i in range(X.shape[0]):\n",
    "        file.write(str(y[i])+' ')\n",
    "        for j in range(X.shape[1]):\n",
    "            file.write(str(X[i,j])+' ')\n",
    "        file.write('\\n')"
   ]
  },
  {
   "cell_type": "code",
   "execution_count": null,
   "id": "19fb3c06",
   "metadata": {},
   "outputs": [],
   "source": []
  }
 ],
 "metadata": {
  "kernelspec": {
   "display_name": "Python 3 (ipykernel)",
   "language": "python",
   "name": "python3"
  },
  "language_info": {
   "codemirror_mode": {
    "name": "ipython",
    "version": 3
   },
   "file_extension": ".py",
   "mimetype": "text/x-python",
   "name": "python",
   "nbconvert_exporter": "python",
   "pygments_lexer": "ipython3",
   "version": "3.9.7"
  }
 },
 "nbformat": 4,
 "nbformat_minor": 5
}
